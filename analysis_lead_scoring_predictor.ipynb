{
 "cells": [
  {
   "cell_type": "markdown",
   "metadata": {},
   "source": [
    "# Lead Scoring Predictor"
   ]
  },
  {
   "cell_type": "code",
   "execution_count": 1,
   "metadata": {},
   "outputs": [],
   "source": [
    "import json\n",
    "import pickle\n",
    "import warnings\n",
    "\n",
    "import numpy as np\n",
    "import pandas as pd\n",
    "import seaborn as sns\n",
    "import matplotlib.pyplot as plt\n",
    "\n",
    "from sklearn.preprocessing import OneHotEncoder\n",
    "from sklearn.compose import ColumnTransformer\n",
    "from sklearn.impute import SimpleImputer\n",
    "from sklearn.pipeline import Pipeline\n",
    "\n",
    "from sklearn.model_selection import train_test_split\n",
    "from sklearn.linear_model import LogisticRegression\n",
    "from sklearn.ensemble import RandomForestClassifier\n",
    "from sklearn import svm\n",
    "\n",
    "from sklearn.model_selection import GridSearchCV\n",
    "from sklearn.inspection import permutation_importance\n",
    "from sklearn.metrics import classification_report, confusion_matrix, accuracy_score, f1_score\n",
    "\n",
    "from pandas.core.common import SettingWithCopyWarning\n",
    "\n",
    "COLORS = sns.color_palette('muted')\n",
    "FIGSIZE = (10,7)\n",
    "warnings.simplefilter(action=\"ignore\", category=SettingWithCopyWarning)"
   ]
  },
  {
   "cell_type": "code",
   "execution_count": 2,
   "metadata": {},
   "outputs": [],
   "source": [
    "def predict_evaluate(predictor, X_train, y_train, X_test, y_test, response=False):\n",
    "    \"\"\"Predict and evaluate predictor.\"\"\"\n",
    "    y_test_predicted = predictor.predict(X_test)\n",
    "    \n",
    "    train_acc = predictor.score(X_train, y_train)\n",
    "    test_acc = predictor.score(X_test, y_test)\n",
    "    f1_s = f1_score(y_test, y_test_predicted)\n",
    "    \n",
    "    if response:\n",
    "        return (train_acc, test_acc, f1_s)\n",
    "    else:\n",
    "        print(f\"Predictor train accuracy: {train_acc:.3f}\")\n",
    "        print(f\"Predictor test accuracy: {test_acc:.3f}\")\n",
    "        print(f\"Predictor f1 score: {f1_s:.3f}\")\n",
    "\n",
    "        print(confusion_matrix(y_test, y_test_predicted))\n",
    "        print(classification_report(y_test, y_test_predicted))"
   ]
  },
  {
   "cell_type": "markdown",
   "metadata": {},
   "source": [
    "# 1. Analyse des données"
   ]
  },
  {
   "cell_type": "code",
   "execution_count": 3,
   "metadata": {},
   "outputs": [],
   "source": [
    "quotes = pd.read_csv('data/long_quotes.csv')\n",
    "logs = pd.read_csv('data/mixpanel.csv')"
   ]
  },
  {
   "cell_type": "markdown",
   "metadata": {},
   "source": [
    "#### 1.1 Quotes analysis"
   ]
  },
  {
   "cell_type": "code",
   "execution_count": 4,
   "metadata": {
    "scrolled": true
   },
   "outputs": [
    {
     "data": {
      "text/html": [
       "<div>\n",
       "<style scoped>\n",
       "    .dataframe tbody tr th:only-of-type {\n",
       "        vertical-align: middle;\n",
       "    }\n",
       "\n",
       "    .dataframe tbody tr th {\n",
       "        vertical-align: top;\n",
       "    }\n",
       "\n",
       "    .dataframe thead th {\n",
       "        text-align: right;\n",
       "    }\n",
       "</style>\n",
       "<table border=\"1\" class=\"dataframe\">\n",
       "  <thead>\n",
       "    <tr style=\"text-align: right;\">\n",
       "      <th></th>\n",
       "      <th>long_quote_id</th>\n",
       "      <th>lead_id</th>\n",
       "      <th>country_code</th>\n",
       "      <th>first_utm_source</th>\n",
       "      <th>last_utm_source</th>\n",
       "      <th>has_been_proposed_formulas</th>\n",
       "      <th>has_chosen_formula</th>\n",
       "      <th>has_subscribed_online</th>\n",
       "      <th>submitted_at</th>\n",
       "      <th>effective_start_date</th>\n",
       "      <th>...</th>\n",
       "      <th>main_driver_age</th>\n",
       "      <th>main_driver_gender</th>\n",
       "      <th>main_driver_licence_age</th>\n",
       "      <th>main_driver_bonus</th>\n",
       "      <th>vehicle_age</th>\n",
       "      <th>vehicle_class</th>\n",
       "      <th>vehicle_group</th>\n",
       "      <th>vehicle_region</th>\n",
       "      <th>has_secondary_driver</th>\n",
       "      <th>has_subscribed</th>\n",
       "    </tr>\n",
       "  </thead>\n",
       "  <tbody>\n",
       "    <tr>\n",
       "      <th>0</th>\n",
       "      <td>7527452923606463240</td>\n",
       "      <td>-1065398551916348537</td>\n",
       "      <td>FR</td>\n",
       "      <td>NaN</td>\n",
       "      <td>NaN</td>\n",
       "      <td>False</td>\n",
       "      <td>False</td>\n",
       "      <td>False</td>\n",
       "      <td>2021-09-01 18:18:19 UTC</td>\n",
       "      <td>2021-09-05</td>\n",
       "      <td>...</td>\n",
       "      <td>40-59</td>\n",
       "      <td>M</td>\n",
       "      <td>15+</td>\n",
       "      <td>064-084</td>\n",
       "      <td>03-05</td>\n",
       "      <td>I-K</td>\n",
       "      <td>31-32</td>\n",
       "      <td>Picardie</td>\n",
       "      <td>False</td>\n",
       "      <td>False</td>\n",
       "    </tr>\n",
       "    <tr>\n",
       "      <th>1</th>\n",
       "      <td>2676593580459190130</td>\n",
       "      <td>-3188174584045372774</td>\n",
       "      <td>FR</td>\n",
       "      <td>NaN</td>\n",
       "      <td>NaN</td>\n",
       "      <td>False</td>\n",
       "      <td>False</td>\n",
       "      <td>False</td>\n",
       "      <td>2021-09-01 12:29:25 UTC</td>\n",
       "      <td>2021-09-03</td>\n",
       "      <td>...</td>\n",
       "      <td>40-59</td>\n",
       "      <td>F</td>\n",
       "      <td>15+</td>\n",
       "      <td>050</td>\n",
       "      <td>10-14</td>\n",
       "      <td>I-K</td>\n",
       "      <td>29-30</td>\n",
       "      <td>Rhone-Alpes</td>\n",
       "      <td>True</td>\n",
       "      <td>False</td>\n",
       "    </tr>\n",
       "    <tr>\n",
       "      <th>2</th>\n",
       "      <td>-8181351603970286153</td>\n",
       "      <td>809161028469555575</td>\n",
       "      <td>FR</td>\n",
       "      <td>NaN</td>\n",
       "      <td>NaN</td>\n",
       "      <td>False</td>\n",
       "      <td>False</td>\n",
       "      <td>False</td>\n",
       "      <td>2021-09-01 03:52:34 UTC</td>\n",
       "      <td>2021-11-01</td>\n",
       "      <td>...</td>\n",
       "      <td>40-59</td>\n",
       "      <td>M</td>\n",
       "      <td>15+</td>\n",
       "      <td>100</td>\n",
       "      <td>00</td>\n",
       "      <td>O-R</td>\n",
       "      <td>35+</td>\n",
       "      <td>Champagne-Ardenne</td>\n",
       "      <td>True</td>\n",
       "      <td>False</td>\n",
       "    </tr>\n",
       "  </tbody>\n",
       "</table>\n",
       "<p>3 rows × 33 columns</p>\n",
       "</div>"
      ],
      "text/plain": [
       "         long_quote_id              lead_id country_code first_utm_source  \\\n",
       "0  7527452923606463240 -1065398551916348537           FR              NaN   \n",
       "1  2676593580459190130 -3188174584045372774           FR              NaN   \n",
       "2 -8181351603970286153   809161028469555575           FR              NaN   \n",
       "\n",
       "  last_utm_source  has_been_proposed_formulas  has_chosen_formula  \\\n",
       "0             NaN                       False               False   \n",
       "1             NaN                       False               False   \n",
       "2             NaN                       False               False   \n",
       "\n",
       "   has_subscribed_online             submitted_at effective_start_date  ...  \\\n",
       "0                  False  2021-09-01 18:18:19 UTC           2021-09-05  ...   \n",
       "1                  False  2021-09-01 12:29:25 UTC           2021-09-03  ...   \n",
       "2                  False  2021-09-01 03:52:34 UTC           2021-11-01  ...   \n",
       "\n",
       "  main_driver_age main_driver_gender main_driver_licence_age  \\\n",
       "0           40-59                  M                     15+   \n",
       "1           40-59                  F                     15+   \n",
       "2           40-59                  M                     15+   \n",
       "\n",
       "  main_driver_bonus vehicle_age vehicle_class vehicle_group  \\\n",
       "0           064-084       03-05           I-K         31-32   \n",
       "1               050       10-14           I-K         29-30   \n",
       "2               100          00           O-R           35+   \n",
       "\n",
       "      vehicle_region has_secondary_driver has_subscribed  \n",
       "0           Picardie                False          False  \n",
       "1        Rhone-Alpes                 True          False  \n",
       "2  Champagne-Ardenne                 True          False  \n",
       "\n",
       "[3 rows x 33 columns]"
      ]
     },
     "execution_count": 4,
     "metadata": {},
     "output_type": "execute_result"
    }
   ],
   "source": [
    "quotes.head(3)"
   ]
  },
  {
   "cell_type": "code",
   "execution_count": 5,
   "metadata": {},
   "outputs": [
    {
     "name": "stdout",
     "output_type": "stream",
     "text": [
      "<class 'pandas.core.frame.DataFrame'>\n",
      "RangeIndex: 1215 entries, 0 to 1214\n",
      "Data columns (total 33 columns):\n",
      " #   Column                      Non-Null Count  Dtype  \n",
      "---  ------                      --------------  -----  \n",
      " 0   long_quote_id               1215 non-null   int64  \n",
      " 1   lead_id                     1215 non-null   int64  \n",
      " 2   country_code                1215 non-null   object \n",
      " 3   first_utm_source            232 non-null    object \n",
      " 4   last_utm_source             232 non-null    object \n",
      " 5   has_been_proposed_formulas  1215 non-null   bool   \n",
      " 6   has_chosen_formula          1215 non-null   bool   \n",
      " 7   has_subscribed_online       1215 non-null   bool   \n",
      " 8   submitted_at                1215 non-null   object \n",
      " 9   effective_start_date        1214 non-null   object \n",
      " 10  rbs_result                  50 non-null     object \n",
      " 11  provider                    1027 non-null   object \n",
      " 12  product_third_party         1027 non-null   object \n",
      " 13  product_intermediate        1027 non-null   object \n",
      " 14  product_all_risks           1022 non-null   object \n",
      " 15  annual_price_third_party    1027 non-null   object \n",
      " 16  annual_price_intermediate   1027 non-null   object \n",
      " 17  annual_price_all_risks      1022 non-null   object \n",
      " 18  chosen_formula              286 non-null    object \n",
      " 19  chosen_product              286 non-null    object \n",
      " 20  policy_subscribed_at        23 non-null     object \n",
      " 21  contract_id                 17 non-null     float64\n",
      " 22  payment_frequency           0 non-null      float64\n",
      " 23  main_driver_age             1215 non-null   object \n",
      " 24  main_driver_gender          1215 non-null   object \n",
      " 25  main_driver_licence_age     1215 non-null   object \n",
      " 26  main_driver_bonus           1215 non-null   object \n",
      " 27  vehicle_age                 1215 non-null   object \n",
      " 28  vehicle_class               1199 non-null   object \n",
      " 29  vehicle_group               1199 non-null   object \n",
      " 30  vehicle_region              1215 non-null   object \n",
      " 31  has_secondary_driver        1215 non-null   bool   \n",
      " 32  has_subscribed              1215 non-null   bool   \n",
      "dtypes: bool(5), float64(2), int64(2), object(24)\n",
      "memory usage: 271.8+ KB\n"
     ]
    }
   ],
   "source": [
    "quotes.info()"
   ]
  },
  {
   "cell_type": "markdown",
   "metadata": {},
   "source": [
    "#### Duplicates rows in the quotes"
   ]
  },
  {
   "cell_type": "code",
   "execution_count": 6,
   "metadata": {},
   "outputs": [
    {
     "data": {
      "text/plain": [
       " 3193278899385012716    2\n",
       "-2567510670073880055    2\n",
       "-6207503491702107433    2\n",
       "-8460876607405465288    1\n",
       "-5823080703452367928    1\n",
       "                       ..\n",
       "-7247650444290653422    1\n",
       " 5915931168270183226    1\n",
       " 5511888581927997971    1\n",
       "-3740565721924245756    1\n",
       "-4400907979771225928    1\n",
       "Name: long_quote_id, Length: 1212, dtype: int64"
      ]
     },
     "execution_count": 6,
     "metadata": {},
     "output_type": "execute_result"
    }
   ],
   "source": [
    "quotes['long_quote_id'].value_counts()"
   ]
  },
  {
   "cell_type": "code",
   "execution_count": 7,
   "metadata": {},
   "outputs": [],
   "source": [
    "quotes = quotes.drop_duplicates()"
   ]
  },
  {
   "cell_type": "code",
   "execution_count": 8,
   "metadata": {},
   "outputs": [
    {
     "data": {
      "text/plain": [
       "-8460876607405465288    1\n",
       "-8999035888099581211    1\n",
       " 2676593580459190130    1\n",
       "-2080494545874085595    1\n",
       "-7023964638711598666    1\n",
       "                       ..\n",
       " 5915931168270183226    1\n",
       " 5511888581927997971    1\n",
       "-3740565721924245756    1\n",
       " 5851731705011274421    1\n",
       "-4400907979771225928    1\n",
       "Name: long_quote_id, Length: 1212, dtype: int64"
      ]
     },
     "execution_count": 8,
     "metadata": {},
     "output_type": "execute_result"
    }
   ],
   "source": [
    "quotes['long_quote_id'].value_counts()"
   ]
  },
  {
   "cell_type": "code",
   "execution_count": 9,
   "metadata": {},
   "outputs": [
    {
     "data": {
      "text/plain": [
       " 6007475069273989421    12\n",
       " 707106108801747155      6\n",
       " 2985704236974667725     6\n",
       " 7443518922044095226     5\n",
       " 6417788977143244366     5\n",
       "                        ..\n",
       " 4864065490631433717     1\n",
       "-3314367315040936652     1\n",
       " 3837605510687758841     1\n",
       " 3350398049064773035     1\n",
       "-2208476976128241344     1\n",
       "Name: lead_id, Length: 1058, dtype: int64"
      ]
     },
     "execution_count": 9,
     "metadata": {},
     "output_type": "execute_result"
    }
   ],
   "source": [
    "quotes['lead_id'].value_counts()"
   ]
  },
  {
   "cell_type": "code",
   "execution_count": 10,
   "metadata": {},
   "outputs": [],
   "source": [
    "df_gb = quotes.groupby(['lead_id'])['long_quote_id'].agg('count').reset_index()"
   ]
  },
  {
   "cell_type": "code",
   "execution_count": 11,
   "metadata": {},
   "outputs": [
    {
     "data": {
      "image/png": "[encoded data removed]",
      "text/plain": [
       "<Figure size 432x288 with 1 Axes>"
      ]
     },
     "metadata": {
      "needs_background": "light"
     },
     "output_type": "display_data"
    }
   ],
   "source": [
    "sns.histplot(data=df_gb, x='long_quote_id', bins=30)\n",
    "_ = plt.xticks([i for i in range(1,13)])"
   ]
  },
  {
   "cell_type": "markdown",
   "metadata": {},
   "source": [
    "#### Feature has_subscribed is unbalanced"
   ]
  },
  {
   "cell_type": "code",
   "execution_count": 12,
   "metadata": {
    "scrolled": true
   },
   "outputs": [
    {
     "name": "stdout",
     "output_type": "stream",
     "text": [
      "False    1123\n",
      "True       89\n",
      "Name: has_subscribed, dtype: int64\n"
     ]
    },
    {
     "data": {
      "image/png": "[encoded data removed]",
      "text/plain": [
       "<Figure size 432x288 with 1 Axes>"
      ]
     },
     "metadata": {},
     "output_type": "display_data"
    }
   ],
   "source": [
    "print(quotes['has_subscribed'].value_counts())\n",
    "\n",
    "plt.pie(quotes['has_subscribed'].value_counts(), labels=set(quotes['has_subscribed']), colors=COLORS, autopct='%.0f%%')\n",
    "plt.show()"
   ]
  },
  {
   "cell_type": "markdown",
   "metadata": {},
   "source": [
    "#### Most of subscription comes from Customer Care"
   ]
  },
  {
   "cell_type": "code",
   "execution_count": 13,
   "metadata": {},
   "outputs": [
    {
     "name": "stdout",
     "output_type": "stream",
     "text": [
      "False    72\n",
      "True     17\n",
      "Name: has_subscribed_online, dtype: int64\n"
     ]
    },
    {
     "data": {
      "image/png": "[encoded data removed]",
      "text/plain": [
       "<Figure size 432x288 with 1 Axes>"
      ]
     },
     "metadata": {},
     "output_type": "display_data"
    }
   ],
   "source": [
    "quotes_subscribed = quotes[quotes['has_subscribed']==True]\n",
    "print(quotes_subscribed['has_subscribed_online'].value_counts())\n",
    "\n",
    "plt.pie(quotes_subscribed['has_subscribed_online'].value_counts(), labels=set(quotes_subscribed['has_subscribed_online']), colors=COLORS, autopct='%.0f%%')\n",
    "plt.show()"
   ]
  },
  {
   "cell_type": "markdown",
   "metadata": {},
   "source": [
    "#### 1.2 Logs analysis"
   ]
  },
  {
   "cell_type": "code",
   "execution_count": 14,
   "metadata": {},
   "outputs": [
    {
     "data": {
      "text/html": [
       "<div>\n",
       "<style scoped>\n",
       "    .dataframe tbody tr th:only-of-type {\n",
       "        vertical-align: middle;\n",
       "    }\n",
       "\n",
       "    .dataframe tbody tr th {\n",
       "        vertical-align: top;\n",
       "    }\n",
       "\n",
       "    .dataframe thead th {\n",
       "        text-align: right;\n",
       "    }\n",
       "</style>\n",
       "<table border=\"1\" class=\"dataframe\">\n",
       "  <thead>\n",
       "    <tr style=\"text-align: right;\">\n",
       "      <th></th>\n",
       "      <th>time</th>\n",
       "      <th>page_view</th>\n",
       "      <th>mp_os</th>\n",
       "      <th>mp_browser</th>\n",
       "      <th>utm_source</th>\n",
       "      <th>insurance_subscription</th>\n",
       "      <th>mp_event_name</th>\n",
       "    </tr>\n",
       "  </thead>\n",
       "  <tbody>\n",
       "    <tr>\n",
       "      <th>0</th>\n",
       "      <td>2021-09-01 18:31:02</td>\n",
       "      <td>{\"page_collection\":\"website\",\"page_path\":\"/ass...</td>\n",
       "      <td>Android</td>\n",
       "      <td>Android Mobile</td>\n",
       "      <td>NaN</td>\n",
       "      <td>{\"lead_quote_status\": \"NoGo\", \"nogo_reason\": \"...</td>\n",
       "      <td>Insurance - Complete Insurance Long Quote</td>\n",
       "    </tr>\n",
       "    <tr>\n",
       "      <th>1</th>\n",
       "      <td>2021-09-01 18:31:02</td>\n",
       "      <td>{\"page_collection\":\"website\",\"page_path\":\"/ass...</td>\n",
       "      <td>Android</td>\n",
       "      <td>Android Mobile</td>\n",
       "      <td>NaN</td>\n",
       "      <td>{\"lead_quote_status\": \"NoGo\", \"nogo_reason\": \"...</td>\n",
       "      <td>Insurance - Complete Insurance Long Quote</td>\n",
       "    </tr>\n",
       "    <tr>\n",
       "      <th>2</th>\n",
       "      <td>2021-09-01 14:15:49</td>\n",
       "      <td>{\"page_collection\":\"website\",\"page_path\":\"/ass...</td>\n",
       "      <td>Windows</td>\n",
       "      <td>Firefox</td>\n",
       "      <td>google</td>\n",
       "      <td>{\"broker_name\": null, \"category_quoted_tiers\":...</td>\n",
       "      <td>Insurance - Complete Insurance Long Quote</td>\n",
       "    </tr>\n",
       "    <tr>\n",
       "      <th>3</th>\n",
       "      <td>2021-09-01 14:16:29</td>\n",
       "      <td>{\"page_collection\":\"website\",\"page_path\":\"/ass...</td>\n",
       "      <td>Windows</td>\n",
       "      <td>Firefox</td>\n",
       "      <td>google</td>\n",
       "      <td>{\"broker_name\": null, \"long_quote_id\": -716719...</td>\n",
       "      <td>Insurance - Customize Insurance Contract</td>\n",
       "    </tr>\n",
       "    <tr>\n",
       "      <th>4</th>\n",
       "      <td>2021-09-01 14:16:29</td>\n",
       "      <td>{\"page_collection\":\"website\",\"page_path\":\"/ass...</td>\n",
       "      <td>Windows</td>\n",
       "      <td>Firefox</td>\n",
       "      <td>google</td>\n",
       "      <td>{\"broker_name\": null, \"long_quote_id\": -716719...</td>\n",
       "      <td>Insurance - Customize Insurance Contract</td>\n",
       "    </tr>\n",
       "  </tbody>\n",
       "</table>\n",
       "</div>"
      ],
      "text/plain": [
       "                  time                                          page_view  \\\n",
       "0  2021-09-01 18:31:02  {\"page_collection\":\"website\",\"page_path\":\"/ass...   \n",
       "1  2021-09-01 18:31:02  {\"page_collection\":\"website\",\"page_path\":\"/ass...   \n",
       "2  2021-09-01 14:15:49  {\"page_collection\":\"website\",\"page_path\":\"/ass...   \n",
       "3  2021-09-01 14:16:29  {\"page_collection\":\"website\",\"page_path\":\"/ass...   \n",
       "4  2021-09-01 14:16:29  {\"page_collection\":\"website\",\"page_path\":\"/ass...   \n",
       "\n",
       "     mp_os      mp_browser utm_source  \\\n",
       "0  Android  Android Mobile        NaN   \n",
       "1  Android  Android Mobile        NaN   \n",
       "2  Windows         Firefox     google   \n",
       "3  Windows         Firefox     google   \n",
       "4  Windows         Firefox     google   \n",
       "\n",
       "                              insurance_subscription  \\\n",
       "0  {\"lead_quote_status\": \"NoGo\", \"nogo_reason\": \"...   \n",
       "1  {\"lead_quote_status\": \"NoGo\", \"nogo_reason\": \"...   \n",
       "2  {\"broker_name\": null, \"category_quoted_tiers\":...   \n",
       "3  {\"broker_name\": null, \"long_quote_id\": -716719...   \n",
       "4  {\"broker_name\": null, \"long_quote_id\": -716719...   \n",
       "\n",
       "                               mp_event_name  \n",
       "0  Insurance - Complete Insurance Long Quote  \n",
       "1  Insurance - Complete Insurance Long Quote  \n",
       "2  Insurance - Complete Insurance Long Quote  \n",
       "3   Insurance - Customize Insurance Contract  \n",
       "4   Insurance - Customize Insurance Contract  "
      ]
     },
     "execution_count": 14,
     "metadata": {},
     "output_type": "execute_result"
    }
   ],
   "source": [
    "logs.head(5)"
   ]
  },
  {
   "cell_type": "code",
   "execution_count": 15,
   "metadata": {},
   "outputs": [
    {
     "name": "stdout",
     "output_type": "stream",
     "text": [
      "<class 'pandas.core.frame.DataFrame'>\n",
      "RangeIndex: 9410 entries, 0 to 9409\n",
      "Data columns (total 7 columns):\n",
      " #   Column                  Non-Null Count  Dtype \n",
      "---  ------                  --------------  ----- \n",
      " 0   time                    9410 non-null   object\n",
      " 1   page_view               9410 non-null   object\n",
      " 2   mp_os                   9410 non-null   object\n",
      " 3   mp_browser              9410 non-null   object\n",
      " 4   utm_source              6830 non-null   object\n",
      " 5   insurance_subscription  9410 non-null   object\n",
      " 6   mp_event_name           9410 non-null   object\n",
      "dtypes: object(7)\n",
      "memory usage: 514.7+ KB\n"
     ]
    }
   ],
   "source": [
    "logs.info()"
   ]
  },
  {
   "cell_type": "code",
   "execution_count": 16,
   "metadata": {},
   "outputs": [
    {
     "name": "stderr",
     "output_type": "stream",
     "text": [
      "<ipython-input-16-81a4abc42ea3>:1: FutureWarning: pandas.io.json.json_normalize is deprecated, use pandas.json_normalize instead\n",
      "  logs_parsed = pd.io.json.json_normalize(logs['insurance_subscription'].apply(json.loads))\n"
     ]
    }
   ],
   "source": [
    "logs_parsed = pd.io.json.json_normalize(logs['insurance_subscription'].apply(json.loads))"
   ]
  },
  {
   "cell_type": "code",
   "execution_count": 17,
   "metadata": {},
   "outputs": [
    {
     "data": {
      "text/html": [
       "<div>\n",
       "<style scoped>\n",
       "    .dataframe tbody tr th:only-of-type {\n",
       "        vertical-align: middle;\n",
       "    }\n",
       "\n",
       "    .dataframe tbody tr th {\n",
       "        vertical-align: top;\n",
       "    }\n",
       "\n",
       "    .dataframe thead th {\n",
       "        text-align: right;\n",
       "    }\n",
       "</style>\n",
       "<table border=\"1\" class=\"dataframe\">\n",
       "  <thead>\n",
       "    <tr style=\"text-align: right;\">\n",
       "      <th></th>\n",
       "      <th>lead_quote_status</th>\n",
       "      <th>nogo_reason</th>\n",
       "      <th>broker_name</th>\n",
       "      <th>category_quoted_tiers</th>\n",
       "      <th>long_quote_id</th>\n",
       "      <th>product_name</th>\n",
       "      <th>product_type</th>\n",
       "      <th>warranties</th>\n",
       "      <th>lead_id</th>\n",
       "      <th>category_started</th>\n",
       "      <th>vehicle_search_method</th>\n",
       "      <th>contract_id</th>\n",
       "      <th>start_date</th>\n",
       "    </tr>\n",
       "  </thead>\n",
       "  <tbody>\n",
       "    <tr>\n",
       "      <th>0</th>\n",
       "      <td>NoGo</td>\n",
       "      <td>Tarification impossible () EXCLUSION</td>\n",
       "      <td>NaN</td>\n",
       "      <td>NaN</td>\n",
       "      <td>NaN</td>\n",
       "      <td>NaN</td>\n",
       "      <td>NaN</td>\n",
       "      <td>NaN</td>\n",
       "      <td>NaN</td>\n",
       "      <td>NaN</td>\n",
       "      <td>NaN</td>\n",
       "      <td>NaN</td>\n",
       "      <td>NaN</td>\n",
       "    </tr>\n",
       "    <tr>\n",
       "      <th>1</th>\n",
       "      <td>NoGo</td>\n",
       "      <td>Tarification impossible () EXCLUSION</td>\n",
       "      <td>NaN</td>\n",
       "      <td>NaN</td>\n",
       "      <td>NaN</td>\n",
       "      <td>NaN</td>\n",
       "      <td>NaN</td>\n",
       "      <td>NaN</td>\n",
       "      <td>NaN</td>\n",
       "      <td>NaN</td>\n",
       "      <td>NaN</td>\n",
       "      <td>NaN</td>\n",
       "      <td>NaN</td>\n",
       "    </tr>\n",
       "    <tr>\n",
       "      <th>2</th>\n",
       "      <td>Go</td>\n",
       "      <td>NaN</td>\n",
       "      <td>None</td>\n",
       "      <td>autre</td>\n",
       "      <td>-7.167195e+18</td>\n",
       "      <td>NaN</td>\n",
       "      <td>NaN</td>\n",
       "      <td>NaN</td>\n",
       "      <td>NaN</td>\n",
       "      <td>NaN</td>\n",
       "      <td>NaN</td>\n",
       "      <td>NaN</td>\n",
       "      <td>NaN</td>\n",
       "    </tr>\n",
       "    <tr>\n",
       "      <th>3</th>\n",
       "      <td>NaN</td>\n",
       "      <td>NaN</td>\n",
       "      <td>None</td>\n",
       "      <td>NaN</td>\n",
       "      <td>-7.167195e+18</td>\n",
       "      <td>autre</td>\n",
       "      <td>third_party</td>\n",
       "      <td>[]</td>\n",
       "      <td>NaN</td>\n",
       "      <td>NaN</td>\n",
       "      <td>NaN</td>\n",
       "      <td>NaN</td>\n",
       "      <td>NaN</td>\n",
       "    </tr>\n",
       "    <tr>\n",
       "      <th>4</th>\n",
       "      <td>NaN</td>\n",
       "      <td>NaN</td>\n",
       "      <td>None</td>\n",
       "      <td>NaN</td>\n",
       "      <td>-7.167195e+18</td>\n",
       "      <td>autre</td>\n",
       "      <td>third_party</td>\n",
       "      <td>[]</td>\n",
       "      <td>NaN</td>\n",
       "      <td>NaN</td>\n",
       "      <td>NaN</td>\n",
       "      <td>NaN</td>\n",
       "      <td>NaN</td>\n",
       "    </tr>\n",
       "  </tbody>\n",
       "</table>\n",
       "</div>"
      ],
      "text/plain": [
       "  lead_quote_status                           nogo_reason broker_name  \\\n",
       "0              NoGo  Tarification impossible () EXCLUSION         NaN   \n",
       "1              NoGo  Tarification impossible () EXCLUSION         NaN   \n",
       "2                Go                                   NaN        None   \n",
       "3               NaN                                   NaN        None   \n",
       "4               NaN                                   NaN        None   \n",
       "\n",
       "  category_quoted_tiers  long_quote_id product_name product_type warranties  \\\n",
       "0                   NaN            NaN          NaN          NaN        NaN   \n",
       "1                   NaN            NaN          NaN          NaN        NaN   \n",
       "2                 autre  -7.167195e+18          NaN          NaN        NaN   \n",
       "3                   NaN  -7.167195e+18        autre  third_party         []   \n",
       "4                   NaN  -7.167195e+18        autre  third_party         []   \n",
       "\n",
       "   lead_id category_started vehicle_search_method  contract_id start_date  \n",
       "0      NaN              NaN                   NaN          NaN        NaN  \n",
       "1      NaN              NaN                   NaN          NaN        NaN  \n",
       "2      NaN              NaN                   NaN          NaN        NaN  \n",
       "3      NaN              NaN                   NaN          NaN        NaN  \n",
       "4      NaN              NaN                   NaN          NaN        NaN  "
      ]
     },
     "execution_count": 17,
     "metadata": {},
     "output_type": "execute_result"
    }
   ],
   "source": [
    "logs_parsed.head()"
   ]
  },
  {
   "cell_type": "code",
   "execution_count": 18,
   "metadata": {},
   "outputs": [],
   "source": [
    "logs_parsed = logs_parsed[logs_parsed['long_quote_id'].notnull()]\n",
    "logs_parsed['long_quote_id'] = logs_parsed['long_quote_id'].astype('Int64').astype(str)"
   ]
  },
  {
   "cell_type": "markdown",
   "metadata": {},
   "source": [
    "# 2. Lead scoring predictor"
   ]
  },
  {
   "cell_type": "markdown",
   "metadata": {},
   "source": [
    "### Data prep"
   ]
  },
  {
   "cell_type": "code",
   "execution_count": 19,
   "metadata": {},
   "outputs": [
    {
     "data": {
      "text/html": [
       "<div>\n",
       "<style scoped>\n",
       "    .dataframe tbody tr th:only-of-type {\n",
       "        vertical-align: middle;\n",
       "    }\n",
       "\n",
       "    .dataframe tbody tr th {\n",
       "        vertical-align: top;\n",
       "    }\n",
       "\n",
       "    .dataframe thead th {\n",
       "        text-align: right;\n",
       "    }\n",
       "</style>\n",
       "<table border=\"1\" class=\"dataframe\">\n",
       "  <thead>\n",
       "    <tr style=\"text-align: right;\">\n",
       "      <th></th>\n",
       "      <th>long_quote_id</th>\n",
       "      <th>lead_id</th>\n",
       "      <th>country_code</th>\n",
       "      <th>first_utm_source</th>\n",
       "      <th>last_utm_source</th>\n",
       "      <th>has_been_proposed_formulas</th>\n",
       "      <th>has_chosen_formula</th>\n",
       "      <th>has_subscribed_online</th>\n",
       "      <th>submitted_at</th>\n",
       "      <th>effective_start_date</th>\n",
       "      <th>...</th>\n",
       "      <th>main_driver_age</th>\n",
       "      <th>main_driver_gender</th>\n",
       "      <th>main_driver_licence_age</th>\n",
       "      <th>main_driver_bonus</th>\n",
       "      <th>vehicle_age</th>\n",
       "      <th>vehicle_class</th>\n",
       "      <th>vehicle_group</th>\n",
       "      <th>vehicle_region</th>\n",
       "      <th>has_secondary_driver</th>\n",
       "      <th>has_subscribed</th>\n",
       "    </tr>\n",
       "  </thead>\n",
       "  <tbody>\n",
       "    <tr>\n",
       "      <th>0</th>\n",
       "      <td>7527452923606463240</td>\n",
       "      <td>-1065398551916348537</td>\n",
       "      <td>FR</td>\n",
       "      <td>NaN</td>\n",
       "      <td>NaN</td>\n",
       "      <td>False</td>\n",
       "      <td>False</td>\n",
       "      <td>False</td>\n",
       "      <td>2021-09-01 18:18:19 UTC</td>\n",
       "      <td>2021-09-05</td>\n",
       "      <td>...</td>\n",
       "      <td>40-59</td>\n",
       "      <td>M</td>\n",
       "      <td>15+</td>\n",
       "      <td>064-084</td>\n",
       "      <td>03-05</td>\n",
       "      <td>I-K</td>\n",
       "      <td>31-32</td>\n",
       "      <td>Picardie</td>\n",
       "      <td>False</td>\n",
       "      <td>False</td>\n",
       "    </tr>\n",
       "    <tr>\n",
       "      <th>1</th>\n",
       "      <td>2676593580459190130</td>\n",
       "      <td>-3188174584045372774</td>\n",
       "      <td>FR</td>\n",
       "      <td>NaN</td>\n",
       "      <td>NaN</td>\n",
       "      <td>False</td>\n",
       "      <td>False</td>\n",
       "      <td>False</td>\n",
       "      <td>2021-09-01 12:29:25 UTC</td>\n",
       "      <td>2021-09-03</td>\n",
       "      <td>...</td>\n",
       "      <td>40-59</td>\n",
       "      <td>F</td>\n",
       "      <td>15+</td>\n",
       "      <td>050</td>\n",
       "      <td>10-14</td>\n",
       "      <td>I-K</td>\n",
       "      <td>29-30</td>\n",
       "      <td>Rhone-Alpes</td>\n",
       "      <td>True</td>\n",
       "      <td>False</td>\n",
       "    </tr>\n",
       "    <tr>\n",
       "      <th>2</th>\n",
       "      <td>-8181351603970286153</td>\n",
       "      <td>809161028469555575</td>\n",
       "      <td>FR</td>\n",
       "      <td>NaN</td>\n",
       "      <td>NaN</td>\n",
       "      <td>False</td>\n",
       "      <td>False</td>\n",
       "      <td>False</td>\n",
       "      <td>2021-09-01 03:52:34 UTC</td>\n",
       "      <td>2021-11-01</td>\n",
       "      <td>...</td>\n",
       "      <td>40-59</td>\n",
       "      <td>M</td>\n",
       "      <td>15+</td>\n",
       "      <td>100</td>\n",
       "      <td>00</td>\n",
       "      <td>O-R</td>\n",
       "      <td>35+</td>\n",
       "      <td>Champagne-Ardenne</td>\n",
       "      <td>True</td>\n",
       "      <td>False</td>\n",
       "    </tr>\n",
       "  </tbody>\n",
       "</table>\n",
       "<p>3 rows × 33 columns</p>\n",
       "</div>"
      ],
      "text/plain": [
       "         long_quote_id              lead_id country_code first_utm_source  \\\n",
       "0  7527452923606463240 -1065398551916348537           FR              NaN   \n",
       "1  2676593580459190130 -3188174584045372774           FR              NaN   \n",
       "2 -8181351603970286153   809161028469555575           FR              NaN   \n",
       "\n",
       "  last_utm_source  has_been_proposed_formulas  has_chosen_formula  \\\n",
       "0             NaN                       False               False   \n",
       "1             NaN                       False               False   \n",
       "2             NaN                       False               False   \n",
       "\n",
       "   has_subscribed_online             submitted_at effective_start_date  ...  \\\n",
       "0                  False  2021-09-01 18:18:19 UTC           2021-09-05  ...   \n",
       "1                  False  2021-09-01 12:29:25 UTC           2021-09-03  ...   \n",
       "2                  False  2021-09-01 03:52:34 UTC           2021-11-01  ...   \n",
       "\n",
       "  main_driver_age main_driver_gender main_driver_licence_age  \\\n",
       "0           40-59                  M                     15+   \n",
       "1           40-59                  F                     15+   \n",
       "2           40-59                  M                     15+   \n",
       "\n",
       "  main_driver_bonus vehicle_age vehicle_class vehicle_group  \\\n",
       "0           064-084       03-05           I-K         31-32   \n",
       "1               050       10-14           I-K         29-30   \n",
       "2               100          00           O-R           35+   \n",
       "\n",
       "      vehicle_region has_secondary_driver has_subscribed  \n",
       "0           Picardie                False          False  \n",
       "1        Rhone-Alpes                 True          False  \n",
       "2  Champagne-Ardenne                 True          False  \n",
       "\n",
       "[3 rows x 33 columns]"
      ]
     },
     "execution_count": 19,
     "metadata": {},
     "output_type": "execute_result"
    }
   ],
   "source": [
    "quotes.head(3)"
   ]
  },
  {
   "cell_type": "code",
   "execution_count": 20,
   "metadata": {},
   "outputs": [
    {
     "name": "stdout",
     "output_type": "stream",
     "text": [
      "<class 'pandas.core.frame.DataFrame'>\n",
      "Int64Index: 1212 entries, 0 to 1214\n",
      "Data columns (total 33 columns):\n",
      " #   Column                      Non-Null Count  Dtype  \n",
      "---  ------                      --------------  -----  \n",
      " 0   long_quote_id               1212 non-null   int64  \n",
      " 1   lead_id                     1212 non-null   int64  \n",
      " 2   country_code                1212 non-null   object \n",
      " 3   first_utm_source            229 non-null    object \n",
      " 4   last_utm_source             229 non-null    object \n",
      " 5   has_been_proposed_formulas  1212 non-null   bool   \n",
      " 6   has_chosen_formula          1212 non-null   bool   \n",
      " 7   has_subscribed_online       1212 non-null   bool   \n",
      " 8   submitted_at                1212 non-null   object \n",
      " 9   effective_start_date        1211 non-null   object \n",
      " 10  rbs_result                  50 non-null     object \n",
      " 11  provider                    1025 non-null   object \n",
      " 12  product_third_party         1025 non-null   object \n",
      " 13  product_intermediate        1025 non-null   object \n",
      " 14  product_all_risks           1020 non-null   object \n",
      " 15  annual_price_third_party    1025 non-null   object \n",
      " 16  annual_price_intermediate   1025 non-null   object \n",
      " 17  annual_price_all_risks      1020 non-null   object \n",
      " 18  chosen_formula              286 non-null    object \n",
      " 19  chosen_product              286 non-null    object \n",
      " 20  policy_subscribed_at        23 non-null     object \n",
      " 21  contract_id                 17 non-null     float64\n",
      " 22  payment_frequency           0 non-null      float64\n",
      " 23  main_driver_age             1212 non-null   object \n",
      " 24  main_driver_gender          1212 non-null   object \n",
      " 25  main_driver_licence_age     1212 non-null   object \n",
      " 26  main_driver_bonus           1212 non-null   object \n",
      " 27  vehicle_age                 1212 non-null   object \n",
      " 28  vehicle_class               1196 non-null   object \n",
      " 29  vehicle_group               1196 non-null   object \n",
      " 30  vehicle_region              1212 non-null   object \n",
      " 31  has_secondary_driver        1212 non-null   bool   \n",
      " 32  has_subscribed              1212 non-null   bool   \n",
      "dtypes: bool(5), float64(2), int64(2), object(24)\n",
      "memory usage: 280.5+ KB\n"
     ]
    }
   ],
   "source": [
    "quotes.info()"
   ]
  },
  {
   "cell_type": "code",
   "execution_count": 21,
   "metadata": {},
   "outputs": [],
   "source": [
    "# To consider ? : first_utm_source, last_utm_source, submitted_at, effective_start_date?, \n",
    "quotes_categorical_cols = ['has_been_proposed_formulas', 'has_chosen_formula', 'provider', 'product_third_party', \n",
    "                           'product_intermediate', 'product_all_risks', 'annual_price_third_party', \n",
    "                           'annual_price_intermediate', 'annual_price_all_risks', 'chosen_formula', 'chosen_product',\n",
    "                           'main_driver_age', 'main_driver_gender', 'main_driver_licence_age', 'main_driver_bonus',\n",
    "                           'vehicle_age', 'vehicle_class', 'vehicle_group', 'vehicle_region', 'has_secondary_driver']\n",
    "\n",
    "quotes_target_col = 'has_subscribed'"
   ]
  },
  {
   "cell_type": "code",
   "execution_count": 22,
   "metadata": {},
   "outputs": [],
   "source": [
    "X_quotes = quotes[quotes_categorical_cols]\n",
    "y_quotes = quotes[quotes_target_col]\n",
    "y_quotes = np.where(y_quotes==False, 0, 1)"
   ]
  },
  {
   "cell_type": "code",
   "execution_count": 23,
   "metadata": {},
   "outputs": [
    {
     "data": {
      "text/plain": [
       "array([0, 0, 0, ..., 0, 1, 1])"
      ]
     },
     "execution_count": 23,
     "metadata": {},
     "output_type": "execute_result"
    }
   ],
   "source": [
    "y_quotes"
   ]
  },
  {
   "cell_type": "code",
   "execution_count": 24,
   "metadata": {},
   "outputs": [],
   "source": [
    "def clean_preprocess(df):\n",
    "    \"\"\"Replace missing values and get dumies for cat variables.\"\"\"\n",
    "    # provider, product_third_party, product_intermediate, product_all_risks,\n",
    "    # annual_price_third_party, annual_price_intermediate, annual_price_all_risks: replace by most frequent\n",
    "    # chosen_formula, chosen_product : replace nans by 'not clicked'\n",
    "\n",
    "    # Replacing missing values by most frequent\n",
    "    df['provider'] = df['provider'].fillna(df['provider'].value_counts().idxmax())\n",
    "    df['product_third_party'] = df['product_third_party'].fillna(df['product_third_party'].value_counts().idxmax())\n",
    "    df['product_intermediate'] = df['product_intermediate'].fillna(df['product_intermediate'].value_counts().idxmax())\n",
    "    df['product_all_risks'] = df['product_all_risks'].fillna(df['product_all_risks'].value_counts().idxmax())\n",
    "    df['annual_price_third_party'] = df['annual_price_third_party'].fillna(df['annual_price_third_party'].value_counts().idxmax())\n",
    "    df['annual_price_intermediate'] = df['annual_price_intermediate'].fillna(df['annual_price_intermediate'].value_counts().idxmax())\n",
    "    df['annual_price_all_risks'] = df['annual_price_all_risks'].fillna(df['annual_price_all_risks'].value_counts().idxmax())\n",
    "    \n",
    "    # Replacing missing values by 'None'\n",
    "    df['chosen_formula'] = df['chosen_formula'].fillna('None')\n",
    "    df['chosen_product'] = df['chosen_product'].fillna('None')\n",
    "    \n",
    "    # Replacing missing values by most frequent\n",
    "    df['vehicle_class'] = df['vehicle_class'].fillna(df['vehicle_class'].value_counts().idxmax())\n",
    "    df['vehicle_group'] = df['vehicle_group'].fillna(df['vehicle_group'].value_counts().idxmax())\n",
    "    \n",
    "    # Categorical encoding\n",
    "    df_dummies = pd.get_dummies(df, drop_first=True)\n",
    "\n",
    "    return df_dummies"
   ]
  },
  {
   "cell_type": "code",
   "execution_count": 25,
   "metadata": {
    "scrolled": false
   },
   "outputs": [],
   "source": [
    "X_quotes = clean_preprocess(X_quotes)"
   ]
  },
  {
   "cell_type": "code",
   "execution_count": 26,
   "metadata": {},
   "outputs": [],
   "source": [
    "X_quotes_train, X_quotes_test, y_quotes_train, y_quotes_test = train_test_split(X_quotes, y_quotes,\n",
    "                                                                               train_size=0.7, test_size=0.3,\n",
    "                                                                               random_state=0)"
   ]
  },
  {
   "cell_type": "markdown",
   "metadata": {},
   "source": [
    "### Logistic regression\n",
    "https://www.kaggle.com/code/ashydv/lead-scoring-logistic-regression"
   ]
  },
  {
   "cell_type": "code",
   "execution_count": 27,
   "metadata": {},
   "outputs": [],
   "source": [
    "lr_predictor = LogisticRegression(random_state=0, class_weight='balanced')\n",
    "\n",
    "lr_predictor = lr_predictor.fit(X_quotes_train, y_quotes_train)"
   ]
  },
  {
   "cell_type": "code",
   "execution_count": 28,
   "metadata": {},
   "outputs": [
    {
     "name": "stdout",
     "output_type": "stream",
     "text": [
      "Predictor train accuracy: 0.815\n",
      "Predictor test accuracy: 0.786\n",
      "Predictor f1 score: 0.381\n",
      "[[262  72]\n",
      " [  6  24]]\n",
      "              precision    recall  f1-score   support\n",
      "\n",
      "           0       0.98      0.78      0.87       334\n",
      "           1       0.25      0.80      0.38        30\n",
      "\n",
      "    accuracy                           0.79       364\n",
      "   macro avg       0.61      0.79      0.63       364\n",
      "weighted avg       0.92      0.79      0.83       364\n",
      "\n"
     ]
    }
   ],
   "source": [
    "predict_evaluate(lr_predictor, X_quotes_train, y_quotes_train, X_quotes_test, y_quotes_test)"
   ]
  },
  {
   "cell_type": "markdown",
   "metadata": {},
   "source": [
    "### Random forest\n",
    "https://link.medium.com/0HeoU8Qslsb"
   ]
  },
  {
   "cell_type": "code",
   "execution_count": 29,
   "metadata": {},
   "outputs": [],
   "source": [
    "# Random Forest\n",
    "rf_predictor = RandomForestClassifier(random_state=0, class_weight='balanced')\n",
    "\n",
    "rf_predictor = rf_predictor.fit(X_quotes_train, y_quotes_train)"
   ]
  },
  {
   "cell_type": "code",
   "execution_count": 30,
   "metadata": {},
   "outputs": [
    {
     "name": "stdout",
     "output_type": "stream",
     "text": [
      "Predictor train accuracy: 1.000\n",
      "Predictor test accuracy: 0.953\n",
      "Predictor f1 score: 0.622\n",
      "[[333   1]\n",
      " [ 16  14]]\n",
      "              precision    recall  f1-score   support\n",
      "\n",
      "           0       0.95      1.00      0.98       334\n",
      "           1       0.93      0.47      0.62        30\n",
      "\n",
      "    accuracy                           0.95       364\n",
      "   macro avg       0.94      0.73      0.80       364\n",
      "weighted avg       0.95      0.95      0.95       364\n",
      "\n"
     ]
    }
   ],
   "source": [
    "predict_evaluate(rf_predictor, X_quotes_train, y_quotes_train, X_quotes_test, y_quotes_test)"
   ]
  },
  {
   "cell_type": "markdown",
   "metadata": {},
   "source": [
    "### Logistic Regression v2.0 : Using Pipelines"
   ]
  },
  {
   "cell_type": "code",
   "execution_count": 31,
   "metadata": {},
   "outputs": [],
   "source": [
    "X_quotes = quotes[quotes_categorical_cols]\n",
    "y_quotes = quotes[quotes_target_col]\n",
    "y_quotes = np.where(y_quotes==False, 0, 1)"
   ]
  },
  {
   "cell_type": "code",
   "execution_count": 32,
   "metadata": {},
   "outputs": [],
   "source": [
    "X_quotes_train, X_quotes_test, y_quotes_train, y_quotes_test = train_test_split(X_quotes, y_quotes,\n",
    "                                                                               train_size=0.7, test_size=0.3,\n",
    "                                                                               random_state=0)"
   ]
  },
  {
   "cell_type": "code",
   "execution_count": 33,
   "metadata": {},
   "outputs": [],
   "source": [
    "imputer = SimpleImputer(strategy=\"most_frequent\")\n",
    "categorical_encoder = OneHotEncoder(handle_unknown='ignore')\n",
    "\n",
    "categorical_pipeline = Pipeline(\n",
    "    [(\"imputer\", imputer), (\"encoder\", categorical_encoder)]\n",
    ")\n",
    "\n",
    "preprocess_pipeline = ColumnTransformer(transformers=[\n",
    "    (\"category\", categorical_pipeline, quotes_categorical_cols)\n",
    "])"
   ]
  },
  {
   "cell_type": "code",
   "execution_count": 34,
   "metadata": {},
   "outputs": [
    {
     "name": "stderr",
     "output_type": "stream",
     "text": [
      "C:\\Work\\Anaconda\\lib\\site-packages\\sklearn\\linear_model\\_logistic.py:762: ConvergenceWarning: lbfgs failed to converge (status=1):\n",
      "STOP: TOTAL NO. of ITERATIONS REACHED LIMIT.\n",
      "\n",
      "Increase the number of iterations (max_iter) or scale the data as shown in:\n",
      "    https://scikit-learn.org/stable/modules/preprocessing.html\n",
      "Please also refer to the documentation for alternative solver options:\n",
      "    https://scikit-learn.org/stable/modules/linear_model.html#logistic-regression\n",
      "  n_iter_i = _check_optimize_result(\n"
     ]
    }
   ],
   "source": [
    "lr_pipeline = Pipeline(\n",
    "    [\n",
    "        (\"preprocess\", preprocess_pipeline),\n",
    "        (\"classifier\", LogisticRegression(random_state=0, class_weight='balanced')),\n",
    "    ]\n",
    ")\n",
    "lr_pipeline = lr_pipeline.fit(X_quotes_train, y_quotes_train)"
   ]
  },
  {
   "cell_type": "code",
   "execution_count": 35,
   "metadata": {
    "scrolled": true
   },
   "outputs": [
    {
     "name": "stdout",
     "output_type": "stream",
     "text": [
      "Predictor train accuracy: 0.810\n",
      "Predictor test accuracy: 0.791\n",
      "Predictor f1 score: 0.377\n",
      "[[265  69]\n",
      " [  7  23]]\n",
      "              precision    recall  f1-score   support\n",
      "\n",
      "           0       0.97      0.79      0.87       334\n",
      "           1       0.25      0.77      0.38        30\n",
      "\n",
      "    accuracy                           0.79       364\n",
      "   macro avg       0.61      0.78      0.63       364\n",
      "weighted avg       0.91      0.79      0.83       364\n",
      "\n"
     ]
    }
   ],
   "source": [
    "predict_evaluate(lr_pipeline, X_quotes_train, y_quotes_train, X_quotes_test, y_quotes_test)"
   ]
  },
  {
   "cell_type": "markdown",
   "metadata": {},
   "source": [
    "### Random Forest v2.0 : Using Pipelines, GridSearch and feature importance"
   ]
  },
  {
   "cell_type": "code",
   "execution_count": 36,
   "metadata": {},
   "outputs": [],
   "source": [
    "imputer = SimpleImputer(strategy=\"most_frequent\")\n",
    "categorical_encoder = OneHotEncoder(handle_unknown='ignore')\n",
    "\n",
    "categorical_pipeline = Pipeline(\n",
    "    [(\"imputer\", imputer), (\"encoder\", categorical_encoder)]\n",
    ")\n",
    "\n",
    "preprocess_pipeline = ColumnTransformer(transformers=[\n",
    "    (\"category\", categorical_pipeline, quotes_categorical_cols)\n",
    "])"
   ]
  },
  {
   "cell_type": "code",
   "execution_count": 37,
   "metadata": {},
   "outputs": [],
   "source": [
    "rf_pipeline = Pipeline(\n",
    "    [\n",
    "        (\"preprocess\", preprocess_pipeline),\n",
    "        (\"classifier\", RandomForestClassifier(random_state=0, class_weight='balanced')),\n",
    "    ]\n",
    ")\n",
    "rf_pipeline = rf_pipeline.fit(X_quotes_train, y_quotes_train)"
   ]
  },
  {
   "cell_type": "code",
   "execution_count": 38,
   "metadata": {},
   "outputs": [
    {
     "name": "stdout",
     "output_type": "stream",
     "text": [
      "Predictor train accuracy: 1.000\n",
      "Predictor test accuracy: 0.956\n",
      "Predictor f1 score: 0.636\n",
      "[[334   0]\n",
      " [ 16  14]]\n",
      "              precision    recall  f1-score   support\n",
      "\n",
      "           0       0.95      1.00      0.98       334\n",
      "           1       1.00      0.47      0.64        30\n",
      "\n",
      "    accuracy                           0.96       364\n",
      "   macro avg       0.98      0.73      0.81       364\n",
      "weighted avg       0.96      0.96      0.95       364\n",
      "\n"
     ]
    }
   ],
   "source": [
    "predict_evaluate(rf_pipeline, X_quotes_train, y_quotes_train, X_quotes_test, y_quotes_test)"
   ]
  },
  {
   "cell_type": "code",
   "execution_count": 39,
   "metadata": {},
   "outputs": [
    {
     "data": {
      "text/plain": [
       "dict_keys(['memory', 'steps', 'verbose', 'preprocess', 'classifier', 'preprocess__n_jobs', 'preprocess__remainder', 'preprocess__sparse_threshold', 'preprocess__transformer_weights', 'preprocess__transformers', 'preprocess__verbose', 'preprocess__category', 'preprocess__category__memory', 'preprocess__category__steps', 'preprocess__category__verbose', 'preprocess__category__imputer', 'preprocess__category__encoder', 'preprocess__category__imputer__add_indicator', 'preprocess__category__imputer__copy', 'preprocess__category__imputer__fill_value', 'preprocess__category__imputer__missing_values', 'preprocess__category__imputer__strategy', 'preprocess__category__imputer__verbose', 'preprocess__category__encoder__categories', 'preprocess__category__encoder__drop', 'preprocess__category__encoder__dtype', 'preprocess__category__encoder__handle_unknown', 'preprocess__category__encoder__sparse', 'classifier__bootstrap', 'classifier__ccp_alpha', 'classifier__class_weight', 'classifier__criterion', 'classifier__max_depth', 'classifier__max_features', 'classifier__max_leaf_nodes', 'classifier__max_samples', 'classifier__min_impurity_decrease', 'classifier__min_impurity_split', 'classifier__min_samples_leaf', 'classifier__min_samples_split', 'classifier__min_weight_fraction_leaf', 'classifier__n_estimators', 'classifier__n_jobs', 'classifier__oob_score', 'classifier__random_state', 'classifier__verbose', 'classifier__warm_start'])"
      ]
     },
     "execution_count": 39,
     "metadata": {},
     "output_type": "execute_result"
    }
   ],
   "source": [
    "rf_pipeline.get_params().keys()"
   ]
  },
  {
   "cell_type": "code",
   "execution_count": 40,
   "metadata": {},
   "outputs": [],
   "source": [
    "rf_param_grid = { \n",
    "    'classifier__n_estimators': [25, 50, 100],\n",
    "    'classifier__max_depth': [4, 5, 6, 7],\n",
    "    'classifier__min_samples_split': [2, 3, 4]\n",
    "}"
   ]
  },
  {
   "cell_type": "code",
   "execution_count": 41,
   "metadata": {
    "scrolled": false
   },
   "outputs": [],
   "source": [
    "rf_pipeline_gridsearch = GridSearchCV(estimator=rf_pipeline, param_grid=rf_param_grid, cv=5)\n",
    "rf_pipeline_gridsearch = rf_pipeline_gridsearch.fit(X_quotes_train, y_quotes_train)"
   ]
  },
  {
   "cell_type": "code",
   "execution_count": 42,
   "metadata": {},
   "outputs": [
    {
     "data": {
      "text/plain": [
       "{'classifier__max_depth': 7,\n",
       " 'classifier__min_samples_split': 4,\n",
       " 'classifier__n_estimators': 100}"
      ]
     },
     "execution_count": 42,
     "metadata": {},
     "output_type": "execute_result"
    }
   ],
   "source": [
    "rf_pipeline_gridsearch.best_params_"
   ]
  },
  {
   "cell_type": "code",
   "execution_count": 43,
   "metadata": {},
   "outputs": [],
   "source": [
    "rf_pipeline_best = Pipeline(\n",
    "    [\n",
    "        (\"preprocess\", preprocess_pipeline),\n",
    "        (\"classifier\", RandomForestClassifier(random_state=0, class_weight='balanced',\n",
    "                                              max_depth=rf_pipeline_gridsearch.best_params_['classifier__max_depth'], \n",
    "                                              min_samples_split=rf_pipeline_gridsearch.best_params_['classifier__min_samples_split'], \n",
    "                                              n_estimators=rf_pipeline_gridsearch.best_params_['classifier__n_estimators']))\n",
    "    ]\n",
    ")\n",
    "rf_pipeline_best = rf_pipeline_best.fit(X_quotes_train, y_quotes_train)"
   ]
  },
  {
   "cell_type": "code",
   "execution_count": 44,
   "metadata": {},
   "outputs": [
    {
     "name": "stdout",
     "output_type": "stream",
     "text": [
      "Predictor train accuracy: 0.889\n",
      "Predictor test accuracy: 0.865\n",
      "Predictor f1 score: 0.462\n",
      "[[294  40]\n",
      " [  9  21]]\n",
      "              precision    recall  f1-score   support\n",
      "\n",
      "           0       0.97      0.88      0.92       334\n",
      "           1       0.34      0.70      0.46        30\n",
      "\n",
      "    accuracy                           0.87       364\n",
      "   macro avg       0.66      0.79      0.69       364\n",
      "weighted avg       0.92      0.87      0.89       364\n",
      "\n"
     ]
    }
   ],
   "source": [
    "predict_evaluate(rf_pipeline_best, X_quotes_train, y_quotes_train, X_quotes_test, y_quotes_test)"
   ]
  },
  {
   "cell_type": "markdown",
   "metadata": {},
   "source": [
    "#### Score repartition"
   ]
  },
  {
   "cell_type": "code",
   "execution_count": 45,
   "metadata": {},
   "outputs": [],
   "source": [
    "y_pred = rf_pipeline_best.predict_proba(X_quotes_test)"
   ]
  },
  {
   "cell_type": "code",
   "execution_count": 46,
   "metadata": {},
   "outputs": [],
   "source": [
    "df_pred = pd.DataFrame(y_pred, columns = ['neg_score','pos_score'])"
   ]
  },
  {
   "cell_type": "code",
   "execution_count": 47,
   "metadata": {},
   "outputs": [
    {
     "data": {
      "text/html": [
       "<div>\n",
       "<style scoped>\n",
       "    .dataframe tbody tr th:only-of-type {\n",
       "        vertical-align: middle;\n",
       "    }\n",
       "\n",
       "    .dataframe tbody tr th {\n",
       "        vertical-align: top;\n",
       "    }\n",
       "\n",
       "    .dataframe thead th {\n",
       "        text-align: right;\n",
       "    }\n",
       "</style>\n",
       "<table border=\"1\" class=\"dataframe\">\n",
       "  <thead>\n",
       "    <tr style=\"text-align: right;\">\n",
       "      <th></th>\n",
       "      <th>neg_score</th>\n",
       "      <th>pos_score</th>\n",
       "    </tr>\n",
       "  </thead>\n",
       "  <tbody>\n",
       "    <tr>\n",
       "      <th>0</th>\n",
       "      <td>0.988412</td>\n",
       "      <td>0.011588</td>\n",
       "    </tr>\n",
       "    <tr>\n",
       "      <th>1</th>\n",
       "      <td>0.570049</td>\n",
       "      <td>0.429951</td>\n",
       "    </tr>\n",
       "    <tr>\n",
       "      <th>2</th>\n",
       "      <td>0.637114</td>\n",
       "      <td>0.362886</td>\n",
       "    </tr>\n",
       "    <tr>\n",
       "      <th>3</th>\n",
       "      <td>0.821664</td>\n",
       "      <td>0.178336</td>\n",
       "    </tr>\n",
       "    <tr>\n",
       "      <th>4</th>\n",
       "      <td>0.703515</td>\n",
       "      <td>0.296485</td>\n",
       "    </tr>\n",
       "  </tbody>\n",
       "</table>\n",
       "</div>"
      ],
      "text/plain": [
       "   neg_score  pos_score\n",
       "0   0.988412   0.011588\n",
       "1   0.570049   0.429951\n",
       "2   0.637114   0.362886\n",
       "3   0.821664   0.178336\n",
       "4   0.703515   0.296485"
      ]
     },
     "execution_count": 47,
     "metadata": {},
     "output_type": "execute_result"
    }
   ],
   "source": [
    "df_pred.head()"
   ]
  },
  {
   "cell_type": "code",
   "execution_count": 48,
   "metadata": {},
   "outputs": [
    {
     "data": {
      "text/plain": [
       "<AxesSubplot:xlabel='pos_score', ylabel='Count'>"
      ]
     },
     "execution_count": 48,
     "metadata": {},
     "output_type": "execute_result"
    },
    {
     "data": {
      "image/png": "[encoded data removed]",
      "text/plain": [
       "<Figure size 432x288 with 1 Axes>"
      ]
     },
     "metadata": {
      "needs_background": "light"
     },
     "output_type": "display_data"
    }
   ],
   "source": [
    "sns.histplot(data=df_pred, x=\"pos_score\", bins=40)"
   ]
  },
  {
   "cell_type": "markdown",
   "metadata": {},
   "source": [
    "#### Feature importance"
   ]
  },
  {
   "cell_type": "code",
   "execution_count": 49,
   "metadata": {},
   "outputs": [
    {
     "data": {
      "image/png": "[encoded data removed]",
      "text/plain": [
       "<Figure size 720x504 with 1 Axes>"
      ]
     },
     "metadata": {
      "needs_background": "light"
     },
     "output_type": "display_data"
    }
   ],
   "source": [
    "result = permutation_importance(rf_pipeline_best, X_quotes_train, y_quotes_train, n_repeats=10,\n",
    "                                random_state=0, n_jobs=2)\n",
    "sorted_idx = result.importances_mean.argsort()\n",
    "\n",
    "fig, ax = plt.subplots(figsize=FIGSIZE)\n",
    "ax.boxplot(result.importances[sorted_idx].T, \n",
    "           vert=False, labels=X_quotes_train.columns[sorted_idx])\n",
    "ax.set_title(\"Permutation Importances (train set)\")\n",
    "fig.tight_layout()\n",
    "plt.show()"
   ]
  },
  {
   "cell_type": "code",
   "execution_count": 50,
   "metadata": {},
   "outputs": [
    {
     "data": {
      "image/png": "[encoded data removed]",
      "text/plain": [
       "<Figure size 720x504 with 1 Axes>"
      ]
     },
     "metadata": {
      "needs_background": "light"
     },
     "output_type": "display_data"
    }
   ],
   "source": [
    "result = permutation_importance(rf_pipeline_best, X_quotes_test, y_quotes_test, n_repeats=10,\n",
    "                                random_state=0, n_jobs=2)\n",
    "sorted_idx = result.importances_mean.argsort()\n",
    "\n",
    "fig, ax = plt.subplots(figsize=FIGSIZE)\n",
    "ax.boxplot(result.importances[sorted_idx].T, \n",
    "           vert=False, labels=X_quotes_test.columns[sorted_idx])\n",
    "ax.set_title(\"Permutation Importances (test set)\")\n",
    "fig.tight_layout()\n",
    "plt.show()"
   ]
  },
  {
   "cell_type": "code",
   "execution_count": 51,
   "metadata": {},
   "outputs": [],
   "source": [
    "train_fi_list = X_quotes_train.columns[sorted_idx]\n",
    "test_fi_list = X_quotes_test.columns[sorted_idx]"
   ]
  },
  {
   "cell_type": "code",
   "execution_count": 52,
   "metadata": {},
   "outputs": [
    {
     "data": {
      "text/plain": [
       "Index(['annual_price_third_party', 'product_intermediate',\n",
       "       'annual_price_all_risks', 'product_all_risks', 'chosen_product',\n",
       "       'product_third_party', 'provider', 'annual_price_intermediate',\n",
       "       'main_driver_bonus', 'main_driver_age', 'chosen_formula', 'vehicle_age',\n",
       "       'vehicle_class', 'has_secondary_driver', 'has_been_proposed_formulas',\n",
       "       'main_driver_gender', 'vehicle_region', 'has_chosen_formula',\n",
       "       'main_driver_licence_age', 'vehicle_group'],\n",
       "      dtype='object')"
      ]
     },
     "execution_count": 52,
     "metadata": {},
     "output_type": "execute_result"
    }
   ],
   "source": [
    "test_fi_list"
   ]
  },
  {
   "cell_type": "code",
   "execution_count": 53,
   "metadata": {},
   "outputs": [],
   "source": [
    "# FIXME : graph to show how features go up and down in ranking"
   ]
  },
  {
   "cell_type": "markdown",
   "metadata": {},
   "source": [
    "### Support Vector Machine"
   ]
  },
  {
   "cell_type": "code",
   "execution_count": 54,
   "metadata": {},
   "outputs": [],
   "source": [
    "svm_pipeline = Pipeline(\n",
    "    [\n",
    "        (\"preprocess\", preprocess_pipeline),\n",
    "        (\"classifier\", svm.SVC(class_weight='balanced')),\n",
    "    ]\n",
    ")\n",
    "svm_pipeline = svm_pipeline.fit(X_quotes_train, y_quotes_train)"
   ]
  },
  {
   "cell_type": "code",
   "execution_count": 55,
   "metadata": {},
   "outputs": [
    {
     "name": "stdout",
     "output_type": "stream",
     "text": [
      "Predictor train accuracy: 0.894\n",
      "Predictor test accuracy: 0.852\n",
      "Predictor f1 score: 0.438\n",
      "[[289  45]\n",
      " [  9  21]]\n",
      "              precision    recall  f1-score   support\n",
      "\n",
      "           0       0.97      0.87      0.91       334\n",
      "           1       0.32      0.70      0.44        30\n",
      "\n",
      "    accuracy                           0.85       364\n",
      "   macro avg       0.64      0.78      0.68       364\n",
      "weighted avg       0.92      0.85      0.88       364\n",
      "\n"
     ]
    }
   ],
   "source": [
    "predict_evaluate(svm_pipeline, X_quotes_train, y_quotes_train, X_quotes_test, y_quotes_test)"
   ]
  },
  {
   "cell_type": "markdown",
   "metadata": {},
   "source": [
    "### Result recap"
   ]
  },
  {
   "cell_type": "code",
   "execution_count": 56,
   "metadata": {},
   "outputs": [],
   "source": [
    "def compare_model_perf(dict_models, X_quotes_train, y_quotes_train, X_quotes_test, y_quotes_test):\n",
    "    \"\"\"Compare model performances.\"\"\"\n",
    "    l_main = []\n",
    "    for key, model in dict_models.items():\n",
    "        (train_acc, test_acc, f1_score) = predict_evaluate(model, X_quotes_train, y_quotes_train, \n",
    "                                                           X_quotes_test, y_quotes_test, response=True)\n",
    "        l_main.append([key, train_acc, test_acc, f1_score])\n",
    "    return l_main"
   ]
  },
  {
   "cell_type": "code",
   "execution_count": 57,
   "metadata": {},
   "outputs": [],
   "source": [
    "scores = compare_model_perf({\"logistic_regression\": lr_pipeline, \n",
    "                    \"random_forest\": rf_pipeline_best,\n",
    "                    \"svm\": svm_pipeline},\n",
    "                   X_quotes_train, y_quotes_train, X_quotes_test, y_quotes_test)"
   ]
  },
  {
   "cell_type": "code",
   "execution_count": 58,
   "metadata": {},
   "outputs": [],
   "source": [
    "df_scores = pd.DataFrame(scores, columns = ['model_name', 'train_acc', 'test_acc', 'f1_score'])"
   ]
  },
  {
   "cell_type": "code",
   "execution_count": 59,
   "metadata": {},
   "outputs": [
    {
     "data": {
      "text/html": [
       "<div>\n",
       "<style scoped>\n",
       "    .dataframe tbody tr th:only-of-type {\n",
       "        vertical-align: middle;\n",
       "    }\n",
       "\n",
       "    .dataframe tbody tr th {\n",
       "        vertical-align: top;\n",
       "    }\n",
       "\n",
       "    .dataframe thead th {\n",
       "        text-align: right;\n",
       "    }\n",
       "</style>\n",
       "<table border=\"1\" class=\"dataframe\">\n",
       "  <thead>\n",
       "    <tr style=\"text-align: right;\">\n",
       "      <th></th>\n",
       "      <th>model_name</th>\n",
       "      <th>train_acc</th>\n",
       "      <th>test_acc</th>\n",
       "      <th>f1_score</th>\n",
       "    </tr>\n",
       "  </thead>\n",
       "  <tbody>\n",
       "    <tr>\n",
       "      <th>0</th>\n",
       "      <td>logistic_regression</td>\n",
       "      <td>0.810142</td>\n",
       "      <td>0.791209</td>\n",
       "      <td>0.377049</td>\n",
       "    </tr>\n",
       "    <tr>\n",
       "      <th>1</th>\n",
       "      <td>random_forest</td>\n",
       "      <td>0.889151</td>\n",
       "      <td>0.865385</td>\n",
       "      <td>0.461538</td>\n",
       "    </tr>\n",
       "    <tr>\n",
       "      <th>2</th>\n",
       "      <td>svm</td>\n",
       "      <td>0.893868</td>\n",
       "      <td>0.851648</td>\n",
       "      <td>0.437500</td>\n",
       "    </tr>\n",
       "  </tbody>\n",
       "</table>\n",
       "</div>"
      ],
      "text/plain": [
       "            model_name  train_acc  test_acc  f1_score\n",
       "0  logistic_regression   0.810142  0.791209  0.377049\n",
       "1        random_forest   0.889151  0.865385  0.461538\n",
       "2                  svm   0.893868  0.851648  0.437500"
      ]
     },
     "execution_count": 59,
     "metadata": {},
     "output_type": "execute_result"
    }
   ],
   "source": [
    "df_scores"
   ]
  },
  {
   "cell_type": "code",
   "execution_count": 60,
   "metadata": {},
   "outputs": [
    {
     "data": {
      "text/plain": [
       "<AxesSubplot:xlabel='model_name'>"
      ]
     },
     "execution_count": 60,
     "metadata": {},
     "output_type": "execute_result"
    },
    {
     "data": {
      "image/png": "[encoded data removed]",
      "text/plain": [
       "<Figure size 720x504 with 1 Axes>"
      ]
     },
     "metadata": {
      "needs_background": "light"
     },
     "output_type": "display_data"
    }
   ],
   "source": [
    "df_scores.plot(x=\"model_name\", y=[\"train_acc\", \"test_acc\", \"f1_score\"], kind=\"bar\", figsize=FIGSIZE)"
   ]
  },
  {
   "cell_type": "markdown",
   "metadata": {},
   "source": [
    "### PKL export best model"
   ]
  },
  {
   "cell_type": "code",
   "execution_count": 61,
   "metadata": {},
   "outputs": [],
   "source": [
    "filename = 'rf_pipeline.pkl'\n",
    "pickle.dump(rf_pipeline, open(filename, 'wb'))"
   ]
  },
  {
   "cell_type": "code",
   "execution_count": null,
   "metadata": {},
   "outputs": [],
   "source": []
  },
  {
   "cell_type": "markdown",
   "metadata": {},
   "source": [
    "# 3. Données additionnelles"
   ]
  },
  {
   "cell_type": "markdown",
   "metadata": {},
   "source": [
    "- **Campagnes Marketing :** Avoir les data des clics / open rate\n",
    "- **Historiques des appels téléphoniques :** Avoir les données des appels pour voir la corrélation entre les relances téléphoniques et la conversion en client\n",
    "- **Browsing logs :** Avoir le nombre de fois qu'ils sont venus sur le site + la durée des sessions"
   ]
  },
  {
   "attachments": {},
   "cell_type": "markdown",
   "metadata": {},
   "source": [
    "# 4. Les applications"
   ]
  },
  {
   "cell_type": "markdown",
   "metadata": {},
   "source": [
    "- **Campagnes marketing :** Target les lead avec le score le plus haut avec des campagnes marketing pour réduire la pression commerciale et optimiser les campagnes.\n",
    "- **Customer Care :** Outils Customer Care qui demandent le score du lead en temps réel pour une meilleure compréhension du lead.\n",
    "- **Sales/CC :** Relances téléphoniques priorisées en fonction du score du lead."
   ]
  },
  {
   "cell_type": "markdown",
   "metadata": {},
   "source": [
    "# (5. Les pistes d'améliorations / next steps)"
   ]
  },
  {
   "cell_type": "markdown",
   "metadata": {},
   "source": [
    "- Améliorer le feature engineering :\n",
    "    - Ajouter le nombre de devis réalisés par lead\n",
    "    - Regrouper des valeurs similaires sur des features avec de nombreuses valeurs\n",
    "    - Passer les features initallement numériques en numérique : main_driver_licence_age ; main_driver_bonus\n",
    "    - Prendre plus de temps pour étudier chaque feature\n",
    "- Ajouter les données de mixpanel.csv pour enrichir les données\n",
    "- Mieux étudier les résultats des modèles pour mieux les évaluer :\n",
    "    - Faire intervenir d'autres métriques\n",
    "    - Savoir qu'est-ce qui est le plus dommageable : avoir plus de Faux Positif ou de Faux Négatif ? Instinctivement je dirais que avoir des Faux Positif mois grave que Faux Négatif car peu de données.\n",
    "- Améliorer la mise en production :\n",
    "    - Utiliser un modèle registry : dvc\n",
    "    - Investiguer pour améliorer les performances de l'API\n",
    "    - Ajouter un path à l'API qui permet d'avoir accès aux scores précalculés sur BigQuery"
   ]
  },
  {
   "cell_type": "code",
   "execution_count": null,
   "metadata": {},
   "outputs": [],
   "source": []
  }
 ],
 "metadata": {
  "kernelspec": {
   "display_name": "Python 3",
   "language": "python",
   "name": "python3"
  },
  "language_info": {
   "codemirror_mode": {
    "name": "ipython",
    "version": 3
   },
   "file_extension": ".py",
   "mimetype": "text/x-python",
   "name": "python",
   "nbconvert_exporter": "python",
   "pygments_lexer": "ipython3",
   "version": "3.8.5"
  }
 },
 "nbformat": 4,
 "nbformat_minor": 4
}
